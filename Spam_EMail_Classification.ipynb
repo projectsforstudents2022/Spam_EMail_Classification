{
  "cells": [
    {
      "cell_type": "markdown",
      "metadata": {
        "id": "view-in-github",
        "colab_type": "text"
      },
      "source": [
        "<a href=\"https://colab.research.google.com/github/projectsforstudents2022/Spam_EMail_Classification/blob/main/Spam_EMail_Classification.ipynb\" target=\"_parent\"><img src=\"https://colab.research.google.com/assets/colab-badge.svg\" alt=\"Open In Colab\"/></a>"
      ]
    },
    {
      "cell_type": "code",
      "execution_count": 25,
      "metadata": {
        "_cell_guid": "b1076dfc-b9ad-4769-8c92-a6c4dae69d19",
        "_uuid": "8f2839f25d086af736a60e9eeb907d3b93b6e0e5",
        "execution": {
          "iopub.execute_input": "2020-10-09T04:37:21.146455Z",
          "iopub.status.busy": "2020-10-09T04:37:21.145569Z",
          "iopub.status.idle": "2020-10-09T04:37:23.085033Z",
          "shell.execute_reply": "2020-10-09T04:37:23.084033Z"
        },
        "papermill": {
          "duration": 1.968427,
          "end_time": "2020-10-09T04:37:23.085210",
          "exception": false,
          "start_time": "2020-10-09T04:37:21.116783",
          "status": "completed"
        },
        "tags": [],
        "id": "fUsKR1Xnsorp"
      },
      "outputs": [],
      "source": [
        "# Import Libraries\n",
        "\n",
        "import numpy as np\n",
        "import pandas as pd\n",
        "import sklearn\n",
        "import nltk"
      ]
    },
    {
      "cell_type": "code",
      "source": [
        "# Mount Drive\n",
        "\n",
        "from google.colab import drive\n",
        "drive.mount('/content/drive')"
      ],
      "metadata": {
        "colab": {
          "base_uri": "https://localhost:8080/"
        },
        "id": "Avr1vJ1sszUY",
        "outputId": "cacc6f3b-ec95-48e3-e0e4-a220fd9d003d"
      },
      "execution_count": 26,
      "outputs": [
        {
          "output_type": "stream",
          "name": "stdout",
          "text": [
            "Drive already mounted at /content/drive; to attempt to forcibly remount, call drive.mount(\"/content/drive\", force_remount=True).\n"
          ]
        }
      ]
    },
    {
      "cell_type": "code",
      "execution_count": 27,
      "metadata": {
        "_cell_guid": "79c7e3d0-c299-4dcb-8224-4455121ee9b0",
        "_uuid": "d629ff2d2480ee46fbb7e2d37f6b5fab8052498a",
        "execution": {
          "iopub.execute_input": "2020-10-09T04:37:23.189328Z",
          "iopub.status.busy": "2020-10-09T04:37:23.188346Z",
          "iopub.status.idle": "2020-10-09T04:37:23.233324Z",
          "shell.execute_reply": "2020-10-09T04:37:23.232498Z"
        },
        "papermill": {
          "duration": 0.079373,
          "end_time": "2020-10-09T04:37:23.233468",
          "exception": false,
          "start_time": "2020-10-09T04:37:23.154095",
          "status": "completed"
        },
        "tags": [],
        "id": "tvaNh2Ansorr"
      },
      "outputs": [],
      "source": [
        "# Load Dataset\n",
        "\n",
        "csv = pd.read_csv('/content/drive/MyDrive/Projects/Spam_EMail_Classification/spam.csv', encoding=\"ISO-8859-1\")\n",
        "df = pd.DataFrame(csv)"
      ]
    },
    {
      "cell_type": "code",
      "execution_count": 28,
      "metadata": {
        "execution": {
          "iopub.execute_input": "2020-10-09T04:37:23.295442Z",
          "iopub.status.busy": "2020-10-09T04:37:23.294682Z",
          "iopub.status.idle": "2020-10-09T04:37:23.299596Z",
          "shell.execute_reply": "2020-10-09T04:37:23.298451Z"
        },
        "papermill": {
          "duration": 0.043606,
          "end_time": "2020-10-09T04:37:23.299777",
          "exception": false,
          "start_time": "2020-10-09T04:37:23.256171",
          "status": "completed"
        },
        "tags": [],
        "colab": {
          "base_uri": "https://localhost:8080/"
        },
        "id": "FUtjXWDSsors",
        "outputId": "e81d0404-ca63-4f5f-8b18-5d581dc2368a"
      },
      "outputs": [
        {
          "output_type": "stream",
          "name": "stdout",
          "text": [
            "ham     4825\n",
            "spam     747\n",
            "Name: v1, dtype: int64\n"
          ]
        }
      ],
      "source": [
        "# Check Class Distribution\n",
        "\n",
        "classes = df[df.columns[0]]\n",
        "print(classes.value_counts())"
      ]
    },
    {
      "cell_type": "code",
      "execution_count": 29,
      "metadata": {
        "execution": {
          "iopub.execute_input": "2020-10-09T04:37:23.453097Z",
          "iopub.status.busy": "2020-10-09T04:37:23.452343Z",
          "iopub.status.idle": "2020-10-09T04:37:23.455494Z",
          "shell.execute_reply": "2020-10-09T04:37:23.456365Z"
        },
        "papermill": {
          "duration": 0.040155,
          "end_time": "2020-10-09T04:37:23.456578",
          "exception": false,
          "start_time": "2020-10-09T04:37:23.416423",
          "status": "completed"
        },
        "tags": [],
        "colab": {
          "base_uri": "https://localhost:8080/"
        },
        "id": "e_chzE5qsoru",
        "outputId": "8768d80f-0449-43c3-b6c1-be034d33c4fb"
      },
      "outputs": [
        {
          "output_type": "stream",
          "name": "stdout",
          "text": [
            "0     ham\n",
            "1     ham\n",
            "2    spam\n",
            "3     ham\n",
            "4     ham\n",
            "5    spam\n",
            "6     ham\n",
            "7     ham\n",
            "8    spam\n",
            "9    spam\n",
            "Name: v1, dtype: object\n",
            "[0 0 1 0 0 1 0 0 1 1]\n"
          ]
        }
      ],
      "source": [
        "# Data Encoding\n",
        "\n",
        "from sklearn.preprocessing import LabelEncoder\n",
        "encoder = LabelEncoder()\n",
        "Y = encoder.fit_transform(classes)\n",
        "print(classes[:10])\n",
        "print(Y[:10])"
      ]
    },
    {
      "cell_type": "code",
      "execution_count": 30,
      "metadata": {
        "execution": {
          "iopub.execute_input": "2020-10-09T04:37:23.513725Z",
          "iopub.status.busy": "2020-10-09T04:37:23.512638Z",
          "iopub.status.idle": "2020-10-09T04:37:23.516504Z",
          "shell.execute_reply": "2020-10-09T04:37:23.517090Z"
        },
        "papermill": {
          "duration": 0.036482,
          "end_time": "2020-10-09T04:37:23.517290",
          "exception": false,
          "start_time": "2020-10-09T04:37:23.480808",
          "status": "completed"
        },
        "tags": [],
        "colab": {
          "base_uri": "https://localhost:8080/"
        },
        "id": "yyVuGew5sorv",
        "outputId": "d8fd0b3f-8d4c-4900-e457-d246ded5fb6d"
      },
      "outputs": [
        {
          "output_type": "stream",
          "name": "stdout",
          "text": [
            "0    Go until jurong point, crazy.. Available only ...\n",
            "1                        Ok lar... Joking wif u oni...\n",
            "2    Free entry in 2 a wkly comp to win FA Cup fina...\n",
            "3    U dun say so early hor... U c already then say...\n",
            "4    Nah I don't think he goes to usf, he lives aro...\n",
            "5    FreeMsg Hey there darling it's been 3 week's n...\n",
            "6    Even my brother is not like to speak with me. ...\n",
            "7    As per your request 'Melle Melle (Oru Minnamin...\n",
            "8    WINNER!! As a valued network customer you have...\n",
            "9    Had your mobile 11 months or more? U R entitle...\n",
            "Name: v2, dtype: object\n"
          ]
        }
      ],
      "source": [
        "# Store Email\n",
        "\n",
        "text_messages = df[df.columns[1]]\n",
        "print(text_messages[:10])"
      ]
    },
    {
      "cell_type": "code",
      "execution_count": 31,
      "metadata": {
        "execution": {
          "iopub.execute_input": "2020-10-09T04:37:23.597761Z",
          "iopub.status.busy": "2020-10-09T04:37:23.588188Z",
          "iopub.status.idle": "2020-10-09T04:37:23.672590Z",
          "shell.execute_reply": "2020-10-09T04:37:23.671688Z"
        },
        "papermill": {
          "duration": 0.130161,
          "end_time": "2020-10-09T04:37:23.672755",
          "exception": false,
          "start_time": "2020-10-09T04:37:23.542594",
          "status": "completed"
        },
        "tags": [],
        "colab": {
          "base_uri": "https://localhost:8080/"
        },
        "id": "2CUMxoWisorw",
        "outputId": "08e275ea-32f6-41ba-c39d-eea825bf03ce"
      },
      "outputs": [
        {
          "output_type": "stream",
          "name": "stderr",
          "text": [
            "/usr/local/lib/python3.7/dist-packages/ipykernel_launcher.py:3: FutureWarning: The default value of regex will change from True to False in a future version.\n",
            "  This is separate from the ipykernel package so we can avoid doing imports until\n",
            "/usr/local/lib/python3.7/dist-packages/ipykernel_launcher.py:4: FutureWarning: The default value of regex will change from True to False in a future version.\n",
            "  after removing the cwd from sys.path.\n",
            "/usr/local/lib/python3.7/dist-packages/ipykernel_launcher.py:5: FutureWarning: The default value of regex will change from True to False in a future version.\n",
            "  \"\"\"\n",
            "/usr/local/lib/python3.7/dist-packages/ipykernel_launcher.py:6: FutureWarning: The default value of regex will change from True to False in a future version.\n",
            "  \n",
            "/usr/local/lib/python3.7/dist-packages/ipykernel_launcher.py:7: FutureWarning: The default value of regex will change from True to False in a future version.\n",
            "  import sys\n",
            "/usr/local/lib/python3.7/dist-packages/ipykernel_launcher.py:8: FutureWarning: The default value of regex will change from True to False in a future version.\n",
            "  \n",
            "/usr/local/lib/python3.7/dist-packages/ipykernel_launcher.py:9: FutureWarning: The default value of regex will change from True to False in a future version.\n",
            "  if __name__ == '__main__':\n",
            "/usr/local/lib/python3.7/dist-packages/ipykernel_launcher.py:10: FutureWarning: The default value of regex will change from True to False in a future version.\n",
            "  # Remove the CWD from sys.path while we load stuff.\n"
          ]
        },
        {
          "output_type": "execute_result",
          "data": {
            "text/plain": [
              "0    go until jurong point crazy available only in ...\n",
              "1                              ok lar joking wif u oni\n",
              "2    free entry in num a wkly comp to win fa cup fi...\n",
              "3          u dun say so early hor u c already then say\n",
              "4    nah i don t think he goes to usf he lives arou...\n",
              "Name: v2, dtype: object"
            ]
          },
          "metadata": {},
          "execution_count": 31
        }
      ],
      "source": [
        "# Data Cleaning\n",
        "\n",
        "processed = text_messages.str.replace(r'^\\w+@[a-zA-Z_]+?\\.[a-zA-Z]{2,3}$', 'emailaddr')\n",
        "processed = processed.str.replace(r'^http\\://[a-zA-Z0-9\\-\\.]+\\.[a-zA-Z]{2,3}(/\\S*)?$','webaddress')\n",
        "processed = text_messages.str.replace(r'£|\\$', 'moneysymb')\n",
        "processed = text_messages.str.replace(r'^[2-9]\\d{2}-\\d{3}-\\d{4}$', 'phonenum')\n",
        "processed = text_messages.str.replace(r'\\d+(\\.\\d+)?', 'num')\n",
        "processed = processed.str.replace(r'[^\\w\\d\\s]', ' ')\n",
        "processed = processed.str.replace(r'\\s+', ' ')\n",
        "processed = processed.str.replace(r'^\\s+|\\s+?$', '')\n",
        "processed = processed.str.lower()\n",
        "processed.head()"
      ]
    },
    {
      "cell_type": "code",
      "execution_count": 32,
      "metadata": {
        "execution": {
          "iopub.execute_input": "2020-10-09T04:37:24.037388Z",
          "iopub.status.busy": "2020-10-09T04:37:24.036440Z",
          "iopub.status.idle": "2020-10-09T04:37:24.090212Z",
          "shell.execute_reply": "2020-10-09T04:37:24.089216Z"
        },
        "papermill": {
          "duration": 0.096233,
          "end_time": "2020-10-09T04:37:24.090426",
          "exception": false,
          "start_time": "2020-10-09T04:37:23.994193",
          "status": "completed"
        },
        "tags": [],
        "colab": {
          "base_uri": "https://localhost:8080/"
        },
        "id": "f25WQo6zsory",
        "outputId": "6abd2d6a-f1b7-4cc9-834d-0ca6a5d37689"
      },
      "outputs": [
        {
          "output_type": "stream",
          "name": "stderr",
          "text": [
            "[nltk_data] Downloading package stopwords to /root/nltk_data...\n",
            "[nltk_data]   Package stopwords is already up-to-date!\n"
          ]
        }
      ],
      "source": [
        "# Remove StopWords\n",
        "\n",
        "import nltk\n",
        "nltk.download(\"stopwords\")\n",
        "stop_words = stopwords.words('english')\n",
        "processed = processed.apply(lambda x: ' '.join(\n",
        "    term for term in x.split() if term not in stop_words))"
      ]
    },
    {
      "cell_type": "code",
      "execution_count": 33,
      "metadata": {
        "execution": {
          "iopub.execute_input": "2020-10-09T04:37:24.170818Z",
          "iopub.status.busy": "2020-10-09T04:37:24.169749Z",
          "iopub.status.idle": "2020-10-09T04:37:26.157811Z",
          "shell.execute_reply": "2020-10-09T04:37:26.158400Z"
        },
        "papermill": {
          "duration": 2.032758,
          "end_time": "2020-10-09T04:37:26.158582",
          "exception": false,
          "start_time": "2020-10-09T04:37:24.125824",
          "status": "completed"
        },
        "tags": [],
        "colab": {
          "base_uri": "https://localhost:8080/"
        },
        "id": "QOGYOcQ-sory",
        "outputId": "815a40e8-b051-4c9b-a39b-44c095070dfb"
      },
      "outputs": [
        {
          "output_type": "execute_result",
          "data": {
            "text/plain": [
              "0    go jurong point crazi avail bugi n great world...\n",
              "1                                ok lar joke wif u oni\n",
              "2    free entri num wkli comp win fa cup final tkt ...\n",
              "3                  u dun say earli hor u c alreadi say\n",
              "4                 nah think goe usf live around though\n",
              "Name: v2, dtype: object"
            ]
          },
          "metadata": {},
          "execution_count": 33
        }
      ],
      "source": [
        "# Steeming\n",
        "\n",
        "ps = nltk.PorterStemmer()\n",
        "\n",
        "processed = processed.apply(lambda x: ' '.join(\n",
        "    ps.stem(term) for term in x.split()))\n",
        "\n",
        "processed.head()"
      ]
    },
    {
      "cell_type": "code",
      "execution_count": 34,
      "metadata": {
        "execution": {
          "iopub.execute_input": "2020-10-09T04:37:26.272305Z",
          "iopub.status.busy": "2020-10-09T04:37:26.271491Z",
          "iopub.status.idle": "2020-10-09T04:37:27.358272Z",
          "shell.execute_reply": "2020-10-09T04:37:27.357523Z"
        },
        "papermill": {
          "duration": 1.120255,
          "end_time": "2020-10-09T04:37:27.358421",
          "exception": false,
          "start_time": "2020-10-09T04:37:26.238166",
          "status": "completed"
        },
        "tags": [],
        "colab": {
          "base_uri": "https://localhost:8080/"
        },
        "id": "8X_MqyxFsorz",
        "outputId": "03595327-35c9-4136-f970-b67cb4d9727c"
      },
      "outputs": [
        {
          "output_type": "stream",
          "name": "stderr",
          "text": [
            "[nltk_data] Downloading package punkt to /root/nltk_data...\n",
            "[nltk_data]   Package punkt is already up-to-date!\n"
          ]
        }
      ],
      "source": [
        "# Tokenization\n",
        "\n",
        "import nltk\n",
        "nltk.download('punkt')\n",
        "all_words = []\n",
        "for message in processed:\n",
        "    words = word_tokenize(message)\n",
        "    for w in words:\n",
        "        all_words.append(w)\n",
        "all_words = nltk.FreqDist(all_words)"
      ]
    },
    {
      "cell_type": "code",
      "execution_count": 35,
      "metadata": {
        "execution": {
          "iopub.execute_input": "2020-10-09T04:37:27.421509Z",
          "iopub.status.busy": "2020-10-09T04:37:27.420480Z",
          "iopub.status.idle": "2020-10-09T04:37:27.427142Z",
          "shell.execute_reply": "2020-10-09T04:37:27.426504Z"
        },
        "papermill": {
          "duration": 0.042004,
          "end_time": "2020-10-09T04:37:27.427312",
          "exception": false,
          "start_time": "2020-10-09T04:37:27.385308",
          "status": "completed"
        },
        "tags": [],
        "colab": {
          "base_uri": "https://localhost:8080/"
        },
        "id": "AVU8QJihsor0",
        "outputId": "837aa550-3e83-46af-92d5-76e42afaacce"
      },
      "outputs": [
        {
          "output_type": "stream",
          "name": "stdout",
          "text": [
            "Number of words: 6534\n",
            "Most common words: [('num', 2959), ('u', 1192), ('call', 672), ('go', 453), ('get', 452), ('ur', 385), ('gt', 318), ('lt', 316), ('å', 303), ('come', 301)]\n"
          ]
        }
      ],
      "source": [
        "print('Number of words: {}'.format(len(all_words)))\n",
        "print('Most common words: {}'.format(all_words.most_common(10)))\n",
        "word_features = list(all_words.keys())[:1500]"
      ]
    },
    {
      "cell_type": "code",
      "execution_count": 36,
      "metadata": {
        "execution": {
          "iopub.execute_input": "2020-10-09T04:37:27.557288Z",
          "iopub.status.busy": "2020-10-09T04:37:27.556416Z",
          "iopub.status.idle": "2020-10-09T04:37:27.562705Z",
          "shell.execute_reply": "2020-10-09T04:37:27.563596Z"
        },
        "papermill": {
          "duration": 0.04453,
          "end_time": "2020-10-09T04:37:27.563839",
          "exception": false,
          "start_time": "2020-10-09T04:37:27.519309",
          "status": "completed"
        },
        "tags": [],
        "colab": {
          "base_uri": "https://localhost:8080/"
        },
        "id": "IUCyotBvsor0",
        "outputId": "2056511c-3df4-4851-942b-966ba3860d43"
      },
      "outputs": [
        {
          "output_type": "stream",
          "name": "stdout",
          "text": [
            "go\n",
            "jurong\n",
            "point\n",
            "crazi\n",
            "avail\n",
            "bugi\n",
            "n\n",
            "great\n",
            "world\n",
            "la\n",
            "e\n",
            "buffet\n",
            "cine\n",
            "got\n",
            "amor\n",
            "wat\n"
          ]
        }
      ],
      "source": [
        "# Feature Extraction\n",
        "\n",
        "def find_features(message):\n",
        "    words = word_tokenize(message)\n",
        "    features = {}\n",
        "    for word in word_features:\n",
        "        features[word] = (word in words)\n",
        "    return features\n",
        "features = find_features(processed[0])\n",
        "for key, value in features.items():\n",
        "    if value == True:\n",
        "        print(key)"
      ]
    },
    {
      "cell_type": "code",
      "execution_count": 37,
      "metadata": {
        "execution": {
          "iopub.execute_input": "2020-10-09T04:37:27.702515Z",
          "iopub.status.busy": "2020-10-09T04:37:27.691863Z",
          "iopub.status.idle": "2020-10-09T04:37:31.885807Z",
          "shell.execute_reply": "2020-10-09T04:37:31.885081Z"
        },
        "papermill": {
          "duration": 4.237981,
          "end_time": "2020-10-09T04:37:31.886003",
          "exception": false,
          "start_time": "2020-10-09T04:37:27.648022",
          "status": "completed"
        },
        "tags": [],
        "id": "w9BpHEvhsor1"
      },
      "outputs": [],
      "source": [
        "# Call Feature Fuction\n",
        "\n",
        "messages = list(zip(processed, Y))\n",
        "seed = 1\n",
        "np.random.seed = seed\n",
        "np.random.shuffle(messages)\n",
        "featuresets = [(find_features(text), label) for (text, label) in messages]"
      ]
    },
    {
      "cell_type": "code",
      "execution_count": 38,
      "metadata": {
        "execution": {
          "iopub.execute_input": "2020-10-09T04:37:32.012325Z",
          "iopub.status.busy": "2020-10-09T04:37:32.011201Z",
          "iopub.status.idle": "2020-10-09T04:37:32.014721Z",
          "shell.execute_reply": "2020-10-09T04:37:32.014065Z"
        },
        "papermill": {
          "duration": 0.041524,
          "end_time": "2020-10-09T04:37:32.014865",
          "exception": false,
          "start_time": "2020-10-09T04:37:31.973341",
          "status": "completed"
        },
        "tags": [],
        "colab": {
          "base_uri": "https://localhost:8080/"
        },
        "id": "O-auvyr8sor2",
        "outputId": "f19dfff1-5e95-47df-ace3-85cc8c362ccc"
      },
      "outputs": [
        {
          "output_type": "stream",
          "name": "stdout",
          "text": [
            "Training: 4179\n",
            "Testing: 1393\n"
          ]
        }
      ],
      "source": [
        "# Split Dataset\n",
        "\n",
        "from sklearn import model_selection\n",
        "training, testing = model_selection.train_test_split(featuresets, test_size = 0.25, random_state=seed)\n",
        "print('Training:',len(training))\n",
        "print('Testing:',len(testing))"
      ]
    },
    {
      "cell_type": "code",
      "execution_count": 39,
      "metadata": {
        "execution": {
          "iopub.execute_input": "2020-10-09T04:37:32.266143Z",
          "iopub.status.busy": "2020-10-09T04:37:32.235008Z",
          "iopub.status.idle": "2020-10-09T04:37:48.630847Z",
          "shell.execute_reply": "2020-10-09T04:37:48.630091Z"
        },
        "papermill": {
          "duration": 16.459689,
          "end_time": "2020-10-09T04:37:48.630980",
          "exception": false,
          "start_time": "2020-10-09T04:37:32.171291",
          "status": "completed"
        },
        "tags": [],
        "colab": {
          "base_uri": "https://localhost:8080/"
        },
        "id": "GG75X4TXsor2",
        "outputId": "ccfda564-9451-4b8a-ae62-2c19c72d04e6"
      },
      "outputs": [
        {
          "output_type": "stream",
          "name": "stdout",
          "text": [
            "SVC Accuracy: 98.56424982053123\n"
          ]
        }
      ],
      "source": [
        "# Model Training SklearnClassifier\n",
        "\n",
        "from nltk.classify.scikitlearn import SklearnClassifier\n",
        "from sklearn.svm import SVC\n",
        "model = SklearnClassifier(SVC(kernel = 'linear'))\n",
        "model.train(training)\n",
        "accuracy = nltk.classify.accuracy(model, testing)*100\n",
        "print(\"SVC Accuracy: {}\".format(accuracy))"
      ]
    }
  ],
  "metadata": {
    "kernelspec": {
      "display_name": "Python 3",
      "language": "python",
      "name": "python3"
    },
    "language_info": {
      "codemirror_mode": {
        "name": "ipython",
        "version": 3
      },
      "file_extension": ".py",
      "mimetype": "text/x-python",
      "name": "python",
      "nbconvert_exporter": "python",
      "pygments_lexer": "ipython3",
      "version": "3.7.6"
    },
    "papermill": {
      "duration": 184.687151,
      "end_time": "2020-10-09T04:40:20.498705",
      "environment_variables": {},
      "exception": null,
      "input_path": "__notebook__.ipynb",
      "output_path": "__notebook__.ipynb",
      "parameters": {},
      "start_time": "2020-10-09T04:37:15.811554",
      "version": "2.1.0"
    },
    "colab": {
      "provenance": [],
      "include_colab_link": true
    }
  },
  "nbformat": 4,
  "nbformat_minor": 0
}